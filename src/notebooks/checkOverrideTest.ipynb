{
 "cells": [
  {
   "cell_type": "markdown",
   "id": "72450108",
   "metadata": {},
   "source": [
    "# Verify override for all samples"
   ]
  },
  {
   "cell_type": "code",
   "execution_count": null,
   "id": "987a8818",
   "metadata": {},
   "outputs": [],
   "source": [
    "import os\n",
    "import sys\n",
    "from pathlib import Path\n",
    "import pandas as pd\n",
    "\n",
    "module_path = os.path.abspath(os.path.join('..'))\n",
    "if module_path not in sys.path:\n",
    "    sys.path.append(module_path)\n",
    "\n",
    "currentPath = Path.cwd()\n",
    "print(currentPath)\n",
    "\n",
    "from utils.checkOverride import checkOverride"
   ]
  },
  {
   "cell_type": "markdown",
   "id": "4a695974",
   "metadata": {},
   "source": [
    "## Find sample names"
   ]
  },
  {
   "cell_type": "code",
   "execution_count": null,
   "id": "b5937efd",
   "metadata": {},
   "outputs": [],
   "source": [
    "relDataPath: Path = \"../../data/normalized-2025_04_08/\"\n",
    "fileNames = os.listdir(currentPath / relDataPath)\n",
    "\n",
    "print(\"Number of files in the directory:\", len(fileNames))\n",
    "\n",
    "\n",
    "print(fileNames)"
   ]
  },
  {
   "cell_type": "markdown",
   "id": "a8f022cc",
   "metadata": {},
   "source": [
    "## Test on one sample"
   ]
  },
  {
   "cell_type": "code",
   "execution_count": null,
   "id": "fee8f314",
   "metadata": {},
   "outputs": [],
   "source": [
    "name = \"Locle_2025_03_18.parquet\"\n",
    "sample = pd.read_parquet(currentPath / relDataPath / name)\n",
    "overrideCheck = checkOverride(sample, name, True)\n",
    "\n",
    "print(overrideCheck)"
   ]
  },
  {
   "cell_type": "code",
   "execution_count": null,
   "id": "8dfd234f",
   "metadata": {},
   "outputs": [],
   "source": [
    "index = overrideCheck.loc[name, \"spindleIndex\"]\n",
    "print(index)\n",
    "print(sample.loc[index, \"lrSigSpindleOverride\"])"
   ]
  },
  {
   "cell_type": "markdown",
   "id": "6a34fa5a",
   "metadata": {},
   "source": [
    "## Load data and check override for all samples\n",
    "\n",
    "This is super slow, for 16 samples, takes approx 2m40.\n",
    "\n",
    "Results:\n",
    "\n",
    "```txt\n",
    "                                 feedRate spindle feedRateIndex spindleIndex\n",
    "Locle_2025_03_18                        0       1          None      1389580\n",
    "Locle_2025_03_20                        0       0          None         None\n",
    "MILL_13-03-2025_10h35                   1       0             0         None\n",
    "MILL_13-03-2025_7h35                    1       0             0         None\n",
    "MILL_19-02-2025_9h20                    1       0             0         None\n",
    "Mecatis_03_02_25                        0       0          None         None\n",
    "Mecatis_05_02_25                        0       0          None         None\n",
    "Mecatis_10_03_25                        0       0          None         None\n",
    "Mecatis_10_03_25_2                      0       0          None         None\n",
    "Mecatis_10_03_25_3                      0       0          None         None\n",
    "Mecatis_10_03_25_4                      0       0          None         None\n",
    "Mecatis_10_03_25_5                      0       0          None         None\n",
    "Mecatis_17_02_25                        0       0          None         None\n",
    "Mecatis_20_01_25_AV_chang_Axe_X      None    None          None         None\n",
    "Mecatis_20_01_25_apres_chgt_AxeX        0       0          None         None\n",
    "Mecatis_24_03_25                        0       0          None         None\n",
    "```"
   ]
  },
  {
   "cell_type": "code",
   "execution_count": null,
   "id": "fe1898ee",
   "metadata": {},
   "outputs": [],
   "source": [
    "result = pd.DataFrame()\n",
    "\n",
    "for name in fileNames:\n",
    "    print(\"Processing file:\", name)\n",
    "    sample = pd.read_parquet(currentPath / relDataPath / name)\n",
    "    overrideCheck = checkOverride(sample, name.split('.')[0], True)\n",
    "    result = pd.concat([result, overrideCheck])\n",
    "\n",
    "\n",
    "# sort by alphabetical order\n",
    "result = result.sort_index()\n",
    "\n",
    "print(result)\n"
   ]
  },
  {
   "cell_type": "code",
   "execution_count": null,
   "id": "44cf5396",
   "metadata": {},
   "outputs": [],
   "source": [
    "# sort by alphabetical order\n",
    "result = result.sort_index()\n",
    "\n",
    "print(result)"
   ]
  }
 ],
 "metadata": {
  "kernelspec": {
   "display_name": ".venv",
   "language": "python",
   "name": "python3"
  },
  "language_info": {
   "codemirror_mode": {
    "name": "ipython",
    "version": 3
   },
   "file_extension": ".py",
   "mimetype": "text/x-python",
   "name": "python",
   "nbconvert_exporter": "python",
   "pygments_lexer": "ipython3",
   "version": "3.13.2"
  }
 },
 "nbformat": 4,
 "nbformat_minor": 5
}
