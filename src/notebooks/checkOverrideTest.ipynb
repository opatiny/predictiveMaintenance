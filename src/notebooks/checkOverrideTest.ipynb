{
 "cells": [
  {
   "cell_type": "markdown",
   "id": "72450108",
   "metadata": {},
   "source": [
    "# Verify override for all samples"
   ]
  },
  {
   "cell_type": "code",
   "execution_count": 11,
   "id": "987a8818",
   "metadata": {},
   "outputs": [
    {
     "name": "stdout",
     "output_type": "stream",
     "text": [
      "/Users/opatiny/git/opatiny/predictiveMaintenance/src/notebooks\n"
     ]
    }
   ],
   "source": [
    "import os\n",
    "import sys\n",
    "from pathlib import Path\n",
    "import pandas as pd\n",
    "\n",
    "module_path = os.path.abspath(os.path.join('..'))\n",
    "if module_path not in sys.path:\n",
    "    sys.path.append(module_path)\n",
    "\n",
    "currentPath = Path.cwd()\n",
    "print(currentPath)\n",
    "\n",
    "from utils.checkOverride import checkOverride"
   ]
  },
  {
   "cell_type": "markdown",
   "id": "4a695974",
   "metadata": {},
   "source": [
    "## Find sample names"
   ]
  },
  {
   "cell_type": "code",
   "execution_count": null,
   "id": "b5937efd",
   "metadata": {},
   "outputs": [],
   "source": [
    "relDataPath: Path = \"../../data/normalized-2025_04_08/\"\n",
    "fileNames = os.listdir(currentPath / relDataPath)\n",
    "\n",
    "print(\"Number of files in the directory:\", len(fileNames))\n",
    "\n",
    "\n",
    "print(fileNames)"
   ]
  },
  {
   "cell_type": "markdown",
   "id": "a8f022cc",
   "metadata": {},
   "source": [
    "## Test on one sample"
   ]
  },
  {
   "cell_type": "code",
   "execution_count": 13,
   "id": "fee8f314",
   "metadata": {},
   "outputs": [
    {
     "name": "stdout",
     "output_type": "stream",
     "text": [
      "Signal lrSigFeedRateOverride was modified in sample MILL_13-03-2025_7h35.parquet\n",
      "                              feedRate  spindle  feedRateIndex spindleIndex\n",
      "MILL_13-03-2025_7h35.parquet         1        0              0         None\n"
     ]
    }
   ],
   "source": [
    "name = \"MILL_13-03-2025_7h35.parquet\"\n",
    "sample = pd.read_parquet(currentPath / relDataPath / name)\n",
    "overrideCheck = checkOverride(sample, name, True)\n",
    "\n",
    "print(overrideCheck)"
   ]
  },
  {
   "cell_type": "code",
   "execution_count": 15,
   "id": "8dfd234f",
   "metadata": {},
   "outputs": [
    {
     "name": "stdout",
     "output_type": "stream",
     "text": [
      "   lrSigFeedRateOverride  lrSigSpindleOverride\n",
      "0             102.434921                 100.0\n",
      "1             102.434921                 100.0\n",
      "2             102.434921                 100.0\n",
      "3             102.434921                 100.0\n",
      "4             102.434921                 100.0\n",
      "None\n"
     ]
    },
    {
     "ename": "KeyError",
     "evalue": "None",
     "output_type": "error",
     "traceback": [
      "\u001b[31m---------------------------------------------------------------------------\u001b[39m",
      "\u001b[31mKeyError\u001b[39m                                  Traceback (most recent call last)",
      "\u001b[36mCell\u001b[39m\u001b[36m \u001b[39m\u001b[32mIn[15]\u001b[39m\u001b[32m, line 7\u001b[39m\n\u001b[32m      5\u001b[39m index = overrideCheck.loc[name, \u001b[33m\"\u001b[39m\u001b[33mspindleIndex\u001b[39m\u001b[33m\"\u001b[39m]\n\u001b[32m      6\u001b[39m \u001b[38;5;28mprint\u001b[39m(index)\n\u001b[32m----> \u001b[39m\u001b[32m7\u001b[39m \u001b[38;5;28mprint\u001b[39m(\u001b[43msample\u001b[49m\u001b[43m.\u001b[49m\u001b[43mloc\u001b[49m\u001b[43m[\u001b[49m\u001b[43mindex\u001b[49m\u001b[43m,\u001b[49m\u001b[43m \u001b[49m\u001b[33;43m\"\u001b[39;49m\u001b[33;43mlrSigSpindleOverride\u001b[39;49m\u001b[33;43m\"\u001b[39;49m\u001b[43m]\u001b[49m)\n",
      "\u001b[36mFile \u001b[39m\u001b[32m~/git/opatiny/predictiveMaintenance/.venv/lib/python3.13/site-packages/pandas/core/indexing.py:1183\u001b[39m, in \u001b[36m_LocationIndexer.__getitem__\u001b[39m\u001b[34m(self, key)\u001b[39m\n\u001b[32m   1181\u001b[39m     key = \u001b[38;5;28mtuple\u001b[39m(com.apply_if_callable(x, \u001b[38;5;28mself\u001b[39m.obj) \u001b[38;5;28;01mfor\u001b[39;00m x \u001b[38;5;129;01min\u001b[39;00m key)\n\u001b[32m   1182\u001b[39m     \u001b[38;5;28;01mif\u001b[39;00m \u001b[38;5;28mself\u001b[39m._is_scalar_access(key):\n\u001b[32m-> \u001b[39m\u001b[32m1183\u001b[39m         \u001b[38;5;28;01mreturn\u001b[39;00m \u001b[38;5;28;43mself\u001b[39;49m\u001b[43m.\u001b[49m\u001b[43mobj\u001b[49m\u001b[43m.\u001b[49m\u001b[43m_get_value\u001b[49m\u001b[43m(\u001b[49m\u001b[43m*\u001b[49m\u001b[43mkey\u001b[49m\u001b[43m,\u001b[49m\u001b[43m \u001b[49m\u001b[43mtakeable\u001b[49m\u001b[43m=\u001b[49m\u001b[38;5;28;43mself\u001b[39;49m\u001b[43m.\u001b[49m\u001b[43m_takeable\u001b[49m\u001b[43m)\u001b[49m\n\u001b[32m   1184\u001b[39m     \u001b[38;5;28;01mreturn\u001b[39;00m \u001b[38;5;28mself\u001b[39m._getitem_tuple(key)\n\u001b[32m   1185\u001b[39m \u001b[38;5;28;01melse\u001b[39;00m:\n\u001b[32m   1186\u001b[39m     \u001b[38;5;66;03m# we by definition only have the 0th axis\u001b[39;00m\n",
      "\u001b[36mFile \u001b[39m\u001b[32m~/git/opatiny/predictiveMaintenance/.venv/lib/python3.13/site-packages/pandas/core/frame.py:4221\u001b[39m, in \u001b[36mDataFrame._get_value\u001b[39m\u001b[34m(self, index, col, takeable)\u001b[39m\n\u001b[32m   4215\u001b[39m engine = \u001b[38;5;28mself\u001b[39m.index._engine\n\u001b[32m   4217\u001b[39m \u001b[38;5;28;01mif\u001b[39;00m \u001b[38;5;129;01mnot\u001b[39;00m \u001b[38;5;28misinstance\u001b[39m(\u001b[38;5;28mself\u001b[39m.index, MultiIndex):\n\u001b[32m   4218\u001b[39m     \u001b[38;5;66;03m# CategoricalIndex: Trying to use the engine fastpath may give incorrect\u001b[39;00m\n\u001b[32m   4219\u001b[39m     \u001b[38;5;66;03m#  results if our categories are integers that dont match our codes\u001b[39;00m\n\u001b[32m   4220\u001b[39m     \u001b[38;5;66;03m# IntervalIndex: IntervalTree has no get_loc\u001b[39;00m\n\u001b[32m-> \u001b[39m\u001b[32m4221\u001b[39m     row = \u001b[38;5;28;43mself\u001b[39;49m\u001b[43m.\u001b[49m\u001b[43mindex\u001b[49m\u001b[43m.\u001b[49m\u001b[43mget_loc\u001b[49m\u001b[43m(\u001b[49m\u001b[43mindex\u001b[49m\u001b[43m)\u001b[49m\n\u001b[32m   4222\u001b[39m     \u001b[38;5;28;01mreturn\u001b[39;00m series._values[row]\n\u001b[32m   4224\u001b[39m \u001b[38;5;66;03m# For MultiIndex going through engine effectively restricts us to\u001b[39;00m\n\u001b[32m   4225\u001b[39m \u001b[38;5;66;03m#  same-length tuples; see test_get_set_value_no_partial_indexing\u001b[39;00m\n",
      "\u001b[36mFile \u001b[39m\u001b[32m~/git/opatiny/predictiveMaintenance/.venv/lib/python3.13/site-packages/pandas/core/indexes/range.py:417\u001b[39m, in \u001b[36mRangeIndex.get_loc\u001b[39m\u001b[34m(self, key)\u001b[39m\n\u001b[32m    415\u001b[39m         \u001b[38;5;28;01mraise\u001b[39;00m \u001b[38;5;167;01mKeyError\u001b[39;00m(key) \u001b[38;5;28;01mfrom\u001b[39;00m\u001b[38;5;250m \u001b[39m\u001b[34;01merr\u001b[39;00m\n\u001b[32m    416\u001b[39m \u001b[38;5;28;01mif\u001b[39;00m \u001b[38;5;28misinstance\u001b[39m(key, Hashable):\n\u001b[32m--> \u001b[39m\u001b[32m417\u001b[39m     \u001b[38;5;28;01mraise\u001b[39;00m \u001b[38;5;167;01mKeyError\u001b[39;00m(key)\n\u001b[32m    418\u001b[39m \u001b[38;5;28mself\u001b[39m._check_indexing_error(key)\n\u001b[32m    419\u001b[39m \u001b[38;5;28;01mraise\u001b[39;00m \u001b[38;5;167;01mKeyError\u001b[39;00m(key)\n",
      "\u001b[31mKeyError\u001b[39m: None"
     ]
    }
   ],
   "source": [
    "signals = [\"lrSigFeedRateOverride\", \"lrSigSpindleOverride\"]\n",
    "\n",
    "print(sample[signals].head())\n",
    "\n",
    "index = overrideCheck.loc[name, \"spindleIndex\"]\n",
    "print(index)\n",
    "print(sample.loc[index, \"lrSigSpindleOverride\"])"
   ]
  },
  {
   "cell_type": "markdown",
   "id": "6a34fa5a",
   "metadata": {},
   "source": [
    "## Load data and check override for all samples\n",
    "\n",
    "This is super slow, for 16 samples, takes approx 2m40.\n",
    "\n",
    "Results:\n",
    "\n",
    "```txt\n",
    "                                 feedRate spindle feedRateIndex spindleIndex\n",
    "Locle_2025_03_18                        0       1          None      1389580\n",
    "Locle_2025_03_20                        0       0          None         None\n",
    "MILL_13-03-2025_10h35                   1       0             0         None\n",
    "MILL_13-03-2025_7h35                    1       0             0         None\n",
    "MILL_19-02-2025_9h20                    1       0             0         None\n",
    "Mecatis_03_02_25                        0       0          None         None\n",
    "Mecatis_05_02_25                        0       0          None         None\n",
    "Mecatis_10_03_25                        0       0          None         None\n",
    "Mecatis_10_03_25_2                      0       0          None         None\n",
    "Mecatis_10_03_25_3                      0       0          None         None\n",
    "Mecatis_10_03_25_4                      0       0          None         None\n",
    "Mecatis_10_03_25_5                      0       0          None         None\n",
    "Mecatis_17_02_25                        0       0          None         None\n",
    "Mecatis_20_01_25_AV_chang_Axe_X      None    None          None         None\n",
    "Mecatis_20_01_25_apres_chgt_AxeX        0       0          None         None\n",
    "Mecatis_24_03_25                        0       0          None         None\n",
    "```"
   ]
  },
  {
   "cell_type": "code",
   "execution_count": null,
   "id": "fe1898ee",
   "metadata": {},
   "outputs": [],
   "source": [
    "result = pd.DataFrame()\n",
    "\n",
    "for name in fileNames:\n",
    "    print(\"Processing file:\", name)\n",
    "    sample = pd.read_parquet(currentPath / relDataPath / name)\n",
    "    overrideCheck = checkOverride(sample, name.split('.')[0], True)\n",
    "    result = pd.concat([result, overrideCheck])\n",
    "\n",
    "\n",
    "# sort by alphabetical order\n",
    "result = result.sort_index()\n",
    "\n",
    "print(result)\n"
   ]
  },
  {
   "cell_type": "code",
   "execution_count": null,
   "id": "44cf5396",
   "metadata": {},
   "outputs": [],
   "source": [
    "# sort by alphabetical order\n",
    "result = result.sort_index()\n",
    "\n",
    "print(result)"
   ]
  }
 ],
 "metadata": {
  "kernelspec": {
   "display_name": ".venv",
   "language": "python",
   "name": "python3"
  },
  "language_info": {
   "codemirror_mode": {
    "name": "ipython",
    "version": 3
   },
   "file_extension": ".py",
   "mimetype": "text/x-python",
   "name": "python",
   "nbconvert_exporter": "python",
   "pygments_lexer": "ipython3",
   "version": "3.13.2"
  }
 },
 "nbformat": 4,
 "nbformat_minor": 5
}
