{
 "cells": [
  {
   "cell_type": "markdown",
   "metadata": {},
   "source": [
    "# Plot spindle current versus temperature\n",
    "\n",
    "We want to visualize the relationship between the current and the temperature of the spindle. In order to do that, we want to take averages by given time slots. "
   ]
  },
  {
   "cell_type": "code",
   "execution_count": null,
   "metadata": {},
   "outputs": [],
   "source": [
    "import os\n",
    "import sys\n",
    "import matplotlib.pyplot as plt\n",
    "\n",
    "module_path = os.path.abspath(os.path.join('..'))\n",
    "if module_path not in sys.path:\n",
    "    sys.path.append(module_path)\n",
    "\n",
    "current_folder = os.getcwd()\n",
    "print(current_folder)"
   ]
  },
  {
   "cell_type": "markdown",
   "metadata": {},
   "source": [
    "## Load data\n",
    "\n",
    "   "
   ]
  },
  {
   "cell_type": "code",
   "execution_count": null,
   "metadata": {},
   "outputs": [],
   "source": [
    "from utils.getFormattedSignalData import getFormattedSignalData\n",
    "\n",
    "folderPath = \"../../data/Mecatis/Warmup_Mecatis_05_02_25/\"\n",
    "\n",
    "temperature = \"lrSigSpindleTemp.csv\"\n",
    "current = \"stSigAxCurrentS.csv\"\n",
    "\n",
    "tempPath = current_folder + \"/\" + folderPath + temperature\n",
    "currentPath = current_folder + \"/\" + folderPath + current\n",
    "\n",
    "\n",
    "temperatureData = getFormattedSignalData(tempPath, normalize=True, debug=True)\n",
    "currentData = getFormattedSignalData(currentPath, normalize=True, debug=True)\n"
   ]
  },
  {
   "cell_type": "markdown",
   "metadata": {},
   "source": [
    "## Plot the data"
   ]
  },
  {
   "cell_type": "code",
   "execution_count": null,
   "metadata": {},
   "outputs": [],
   "source": [
    "plt.plot(\n",
    "    temperatureData.loc[:, \"timeSeconds\"], temperatureData.loc[:, \"value\"], \"o-\", markersize=3)\n",
    "plt.plot(\n",
    "    currentData.loc[:, \"timeSeconds\"], currentData.loc[:, \"value\"], \"o-\", markersize=3)\n",
    "plt.xlabel(\"Time (s)\")\n",
    "# plt.ylabel(\"Temperature (°C) / Current (A)\")\n",
    "plt.ylabel(\"Normalized signals\")\n",
    "plt.legend([\"Temperature\", \"Current\"])\n",
    "\n",
    "plt.title(\"Spindle temperature and current\")\n",
    "plt.grid()\n",
    "\n",
    "plt.show()"
   ]
  },
  {
   "cell_type": "markdown",
   "metadata": {},
   "source": [
    "## Compute average values for slots\n",
    "\n",
    "For the two signals, we want to define a time interval, and compute the average for each successive intervals."
   ]
  },
  {
   "cell_type": "code",
   "execution_count": null,
   "metadata": {},
   "outputs": [],
   "source": [
    "import pandas as pd\n",
    "\n",
    "def computeSlotsAverage(signal: pd.DataFrame, dt: float = 10) -> pd.DataFrame:\n",
    "    \"\"\"\n",
    "    Compute the average of the signal in each slot.\n",
    "\n",
    "    Parameters\n",
    "    ----------\n",
    "    signal (pd.DataFrame): The signal to process. It must have a \"timeSeconds\" column.\n",
    "    dt (float, optional): The duration of each slot in seconds.\n",
    "    \"\"\"\n",
    "    signal[\"slot\"] = signal[\"timeSeconds\"] // dt\n",
    "    return signal.groupby(\"slot\").mean()\n",
    "\n",
    "\n",
    "# test the function with basic data\n",
    "data = pd.DataFrame({\"timeSeconds\": [1, 2, 3, 4, 5, 6, 7, 8, 9, 10],\n",
    "                     \"value\": [1, 2, 3, 4, 5, 6, 7, 8, 9, 10]})"
   ]
  },
  {
   "cell_type": "markdown",
   "metadata": {},
   "source": [
    "### Plot the data averaged by slots"
   ]
  },
  {
   "cell_type": "code",
   "execution_count": null,
   "metadata": {},
   "outputs": [],
   "source": [
    "# apply the function to the temperature and current data\n",
    "dt = 100 # seconds\n",
    "\n",
    "temperatureSlots = computeSlotsAverage(temperatureData, dt)\n",
    "currentSlots = computeSlotsAverage(currentData, dt)\n",
    "\n",
    "# plot data versus time\n",
    "plt.plot(\n",
    "    temperatureSlots.loc[:, \"timeSeconds\"], temperatureSlots.loc[:, \"value\"], \"o-\", markersize=3)\n",
    "\n",
    "plt.plot(\n",
    "    currentSlots.loc[:, \"timeSeconds\"], currentSlots.loc[:, \"value\"], \"o-\", markersize=3)\n",
    "plt.xlabel(\"Time (s)\")\n",
    "plt.ylabel(\"Temperature (°C) / Current (A)\")\n",
    "plt.legend([\"Temperature\", \"Current\"])\n",
    "plt.title(\"Spindle temperature and current with slots average of \" + str(dt) + \" seconds\")\n",
    "plt.grid()\n",
    "plt.show()"
   ]
  },
  {
   "cell_type": "markdown",
   "metadata": {},
   "source": [
    "### Plot the current versus temperature"
   ]
  },
  {
   "cell_type": "code",
   "execution_count": null,
   "metadata": {},
   "outputs": [],
   "source": [
    "plt.plot(\n",
    "    temperatureSlots.loc[:, \"value\"], currentSlots.loc[:, \"value\"], \"-o\", markersize=3)\n",
    "plt.xlabel(\"Temperature (°C)\")\n",
    "plt.ylabel(\"Current (A)\")\n",
    "plt.title(\"Spindle temperature VS current\")\n",
    "plt.grid()\n",
    "plt.show()"
   ]
  }
 ],
 "metadata": {
  "kernelspec": {
   "display_name": ".venv",
   "language": "python",
   "name": "python3"
  },
  "language_info": {
   "codemirror_mode": {
    "name": "ipython",
    "version": 3
   },
   "file_extension": ".py",
   "mimetype": "text/x-python",
   "name": "python",
   "nbconvert_exporter": "python",
   "pygments_lexer": "ipython3",
   "version": "3.13.2"
  }
 },
 "nbformat": 4,
 "nbformat_minor": 2
}
