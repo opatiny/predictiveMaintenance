{
 "cells": [
  {
   "cell_type": "markdown",
   "metadata": {},
   "source": [
    "# Plot spindle current versus temperature\n",
    "\n",
    "We want to visualize the relationship between the current and the temperature of the spindle. In order to do that, we want to take averages by given time slots. "
   ]
  },
  {
   "cell_type": "code",
   "execution_count": null,
   "metadata": {},
   "outputs": [],
   "source": [
    "import os\n",
    "import sys\n",
    "import matplotlib.pyplot as plt\n",
    "\n",
    "module_path = os.path.abspath(os.path.join('..'))\n",
    "if module_path not in sys.path:\n",
    "    sys.path.append(module_path)\n",
    "\n",
    "current_folder = os.getcwd()\n",
    "print(current_folder)"
   ]
  },
  {
   "cell_type": "markdown",
   "metadata": {},
   "source": [
    "## Load data\n",
    "\n",
    "   "
   ]
  },
  {
   "cell_type": "code",
   "execution_count": null,
   "metadata": {},
   "outputs": [],
   "source": [
    "from parse.loadCsvSignal import loadCsvSignal\n",
    "\n",
    "folderPath = \"../../data/Mecatis/Warmup_Mecatis_05_02_25/\"\n",
    "\n",
    "temperature = \"lrSigSpindleTemp.csv\"\n",
    "current = \"stSigAxCurrentS.csv\"\n",
    "\n",
    "tempPath = current_folder + \"/\" + folderPath + temperature\n",
    "currentPath = current_folder + \"/\" + folderPath + current\n",
    "\n",
    "\n",
    "temperatureData = loadCsvSignal(tempPath, normalize=True, debug=True)\n",
    "currentData = loadCsvSignal(currentPath, normalize=True, debug=True)\n"
   ]
  },
  {
   "cell_type": "markdown",
   "metadata": {},
   "source": [
    "## Plot the data"
   ]
  },
  {
   "cell_type": "code",
   "execution_count": null,
   "metadata": {},
   "outputs": [],
   "source": [
    "plt.plot(\n",
    "    temperatureData.loc[:, \"timeSeconds\"], temperatureData.loc[:, \"value\"], \"o-\", markersize=3)\n",
    "plt.plot(\n",
    "    currentData.loc[:, \"timeSeconds\"], currentData.loc[:, \"value\"], \"o-\", markersize=3)\n",
    "plt.xlabel(\"Time (s)\")\n",
    "# plt.ylabel(\"Temperature (°C) / Current (A)\")\n",
    "plt.ylabel(\"Normalized signals\")\n",
    "plt.legend([\"Temperature\", \"Current\"])\n",
    "\n",
    "plt.title(\"Spindle temperature and current\")\n",
    "plt.grid()\n",
    "\n",
    "plt.show()"
   ]
  },
  {
   "cell_type": "markdown",
   "metadata": {},
   "source": [
    "## Compute average values for slots\n",
    "\n",
    "For the two signals, we want to define a time interval, and compute the average for each successive intervals."
   ]
  },
  {
   "cell_type": "code",
   "execution_count": null,
   "metadata": {},
   "outputs": [],
   "source": [
    "import pandas as pd\n",
    "\n",
    "def computeSlotsAverage(signal: pd.DataFrame, dt: float = 10) -> pd.DataFrame:\n",
    "    \"\"\"\n",
    "    Compute the average of the signal in each slot.\n",
    "\n",
    "    Parameters\n",
    "    ----------\n",
    "    signal (pd.DataFrame): The signal to process. It must have a \"timeSeconds\" column.\n",
    "    dt (float, optional): The duration of each slot in seconds.\n",
    "\n",
    "    Returns\n",
    "    -------\n",
    "    pd.DataFrame: A DataFrame with the average value of the signal in each slot.\n",
    "    \"\"\"\n",
    "    signal[\"slot\"] = signal[\"timeSeconds\"] // dt\n",
    "    return signal.groupby(\"slot\").mean()\n",
    "\n",
    "\n",
    "# test the function with basic data\n",
    "data = pd.DataFrame({\"timeSeconds\": [1, 2, 3, 4, 5, 6, 7, 8, 9, 10],\n",
    "                     \"value\": [1, 2, 3, 4, 5, 6, 7, 8, 9, 10]})\n",
    "\n",
    "result = computeSlotsAverage(data, dt=2)\n",
    "print(result)"
   ]
  },
  {
   "cell_type": "markdown",
   "metadata": {},
   "source": [
    "### Plot the data averaged by slots"
   ]
  },
  {
   "cell_type": "code",
   "execution_count": null,
   "metadata": {},
   "outputs": [],
   "source": [
    "# apply the function to the temperature and current data\n",
    "dt = 10 # seconds\n",
    "\n",
    "temperatureSlots = computeSlotsAverage(temperatureData, dt)\n",
    "currentSlots = computeSlotsAverage(currentData, dt)\n",
    "\n",
    "# plot data versus time\n",
    "plt.plot(\n",
    "    temperatureSlots.loc[:, \"timeSeconds\"], temperatureSlots.loc[:, \"value\"], \"o-\", markersize=3)\n",
    "\n",
    "plt.plot(\n",
    "    currentSlots.loc[:, \"timeSeconds\"], currentSlots.loc[:, \"value\"], \"o-\", markersize=3)\n",
    "plt.xlabel(\"Time (s)\")\n",
    "plt.ylabel(\"Temperature (°C) / Current (A)\")\n",
    "plt.legend([\"Temperature\", \"Current\"])\n",
    "plt.title(\"Spindle temperature and current with slots average of \" + str(dt) + \" seconds\")\n",
    "plt.grid()\n",
    "plt.show()"
   ]
  },
  {
   "cell_type": "markdown",
   "metadata": {},
   "source": [
    "### Plot the current versus temperature"
   ]
  },
  {
   "cell_type": "code",
   "execution_count": null,
   "metadata": {},
   "outputs": [],
   "source": [
    "plt.plot(\n",
    "    temperatureSlots.loc[:, \"value\"], currentSlots.loc[:, \"value\"], \"-o\", markersize=3)\n",
    "plt.xlabel(\"Temperature (°C)\")\n",
    "plt.ylabel(\"Current (A)\")\n",
    "plt.title(\"Spindle temperature VS current\")\n",
    "plt.grid()\n",
    "plt.show()"
   ]
  },
  {
   "cell_type": "markdown",
   "metadata": {},
   "source": [
    "## Make a function to do all these steps\n",
    "\n",
    "We want to plot the current VS temperature plot for multiple samples."
   ]
  },
  {
   "cell_type": "code",
   "execution_count": null,
   "metadata": {},
   "outputs": [],
   "source": [
    "def getCurrentAndTemp(samplePath: str, timeSlot: float = 10, debug: bool = False) -> pd.DataFrame:\n",
    "    \"\"\"\n",
    "    Get the current and temperature data from a sample path.\n",
    "\n",
    "    Parameters\n",
    "    ----------\n",
    "    samplePath (str): The path to the sample.\n",
    "    timeSlot (float): The duration of each slot on which to average in seconds.\n",
    "        Defaults to 10 seconds.\n",
    "    debug (bool, optional): Whether to print debug information. Defaults to True.\n",
    "\n",
    "    Returns\n",
    "    -------\n",
    "    pd.DataFrame: The current and temperature data.\n",
    "    \"\"\"\n",
    "    # load the data\n",
    "    temperature = loadCsvSignal(samplePath + \"lrSigSpindleTemp.csv\", debug=debug)\n",
    "    current = loadCsvSignal(samplePath + \"stSigAxCurrentS.csv\", debug=debug)\n",
    "\n",
    "    temperatureSlots = computeSlotsAverage(temperature, timeSlot)\n",
    "    currentSlots = computeSlotsAverage(current, timeSlot)\n",
    "\n",
    "    # merge the data\n",
    "    data = pd.DataFrame()\n",
    "    data[\"timeSeconds\"] = temperatureSlots[\"timeSeconds\"]\n",
    "    data[\"temperature\"] = temperatureSlots[\"value\"]\n",
    "    data[\"current\"] = currentSlots[\"value\"]\n",
    "\n",
    "    return data"
   ]
  },
  {
   "cell_type": "markdown",
   "metadata": {},
   "source": [
    "## Test `getCurrentAndTemp` on various samples"
   ]
  },
  {
   "cell_type": "code",
   "execution_count": null,
   "metadata": {},
   "outputs": [],
   "source": [
    "machinePath = \"../../data/Mecatis/\"\n",
    "\n",
    "samples = [\"Warmup_Mecatis_05_02_25/\", \n",
    "           \"Warmup_Mecatis_17_02_25/\",\n",
    "           \"Warmup_Mecatis_10_03_25/\"] \n",
    "\n",
    "data = []\n",
    "for sample in samples:\n",
    "    data.append(getCurrentAndTemp(machinePath + sample))\n",
    "\n",
    "\n",
    "def showTempCalibrationPlots(data: list, sampleNames: list) -> None:\n",
    "    \"\"\"\n",
    "    Show the temperature and current plots for the given data.\n",
    "\n",
    "    Parameters\n",
    "    ----------\n",
    "    data (list): The data to plot.\n",
    "    \"\"\"\n",
    "    # plot temperature versus time\n",
    "    plt.figure()\n",
    "    for i in range(len(data)):\n",
    "        plt.plot(\n",
    "            data[i][\"timeSeconds\"], data[i][\"temperature\"], \"o-\", markersize=3, label=sampleNames[i])\n",
    "    plt.xlabel(\"Time (s)\")\n",
    "    plt.ylabel(\"Temperature (°C)\")\n",
    "    plt.title(\"Spindle temperature\")\n",
    "    plt.legend()\n",
    "    plt.grid()\n",
    "    plt.show()\n",
    "\n",
    "    # plot current versus time\n",
    "    plt.figure()\n",
    "    for i in range(len(data)):\n",
    "        plt.plot(\n",
    "            data[i][\"timeSeconds\"], data[i][\"current\"], \"o-\", markersize=3, label=sampleNames[i])\n",
    "    plt.xlabel(\"Time (s)\")\n",
    "    plt.ylabel(\"Current (A)\")\n",
    "    plt.title(\"Spindle current\")\n",
    "    plt.legend()\n",
    "    plt.grid()\n",
    "    plt.show()\n",
    "\n",
    "    # plot current versus temperature\n",
    "    plt.figure()\n",
    "    for i in range(len(data)):\n",
    "        plt.plot(\n",
    "            data[i][\"temperature\"], data[i][\"current\"], \"o-\", markersize=3, label=sampleNames[i])\n",
    "    plt.xlabel(\"Temperature (°C)\")\n",
    "    plt.ylabel(\"Current (A)\")\n",
    "    plt.title(\"Spindle temperature VS current\")\n",
    "    plt.legend()\n",
    "    plt.grid()\n",
    "    plt.show()\n",
    "        \n",
    "showTempCalibrationPlots(data, samples)"
   ]
  },
  {
   "cell_type": "markdown",
   "metadata": {},
   "source": [
    "## Finding optimal temperature offset \n",
    "\n",
    "We want to minimize the distance between a temperature signal and a reference using just an offset."
   ]
  },
  {
   "cell_type": "code",
   "execution_count": null,
   "metadata": {},
   "outputs": [],
   "source": [
    "import numpy as np\n",
    "from scipy.optimize import minimize\n",
    "\n",
    "def fun(x: float, data: pd.Series, reference: pd.Series) -> float:\n",
    "    error = ((data - x - reference)**2).sum()/len(data) # mean square error (MSE)\n",
    "    return error\n",
    "\n",
    "def findTemperatureOffset(temperature: pd.Series, reference: pd.Series) -> float:\n",
    "    \"\"\"\n",
    "    Find the temperature offset that minimizes the error between the temperature and reference.\n",
    "\n",
    "    Parameters\n",
    "    ----------\n",
    "    temperature (pd.Series): The temperature data.\n",
    "    reference (pd.Series): The reference data.\n",
    "\n",
    "    Returns\n",
    "    -------\n",
    "    float: The temperature offset.\n",
    "    \"\"\"\n",
    "    x0 = 0.0 # start with an offset of 0°C\n",
    "    result = minimize(fun, x0, args=(temperature, reference))\n",
    "    return result.x[0], np.sqrt(result.fun) # return the offset and the rmse"
   ]
  },
  {
   "cell_type": "markdown",
   "metadata": {},
   "source": [
    "Test the function on some data:"
   ]
  },
  {
   "cell_type": "code",
   "execution_count": null,
   "metadata": {},
   "outputs": [],
   "source": [
    "offset1, error1 = findTemperatureOffset(data[1][\"temperature\"], data[0][\"temperature\"])\n",
    "\n",
    "print(\"sample 1: \", samples[1])\n",
    "print(\"Offset: \", offset1.round(2), \"°C\")\n",
    "print(\"RMSE: \", error1.round(2), \"°C\")\n",
    "\n",
    "offset2, error2 = findTemperatureOffset(data[2][\"temperature\"], data[0][\"temperature\"])\n",
    "print(\"sample 2: \", samples[2])\n",
    "print(\"Offset: \", offset2.round(2), \"°C\")\n",
    "print(\"RMSE: \", error2.round(2), \"°C\")\n"
   ]
  },
  {
   "cell_type": "markdown",
   "metadata": {},
   "source": [
    "Plot the corrected data"
   ]
  },
  {
   "cell_type": "code",
   "execution_count": null,
   "metadata": {},
   "outputs": [],
   "source": [
    "data[1][\"temperature\"] = data[1][\"temperature\"] - offset1\n",
    "samples[1] = samples[1] + \" (offset: \" + str(offset1.round(2)) + \"°C)\"\n",
    "\n",
    "data[2][\"temperature\"] = data[2][\"temperature\"] - offset2\n",
    "samples[2] = samples[2] + \" (offset: \" + str(offset2.round(2)) + \"°C)\"\n",
    "\n",
    "showTempCalibrationPlots(data, samples)"
   ]
  }
 ],
 "metadata": {
  "kernelspec": {
   "display_name": ".venv",
   "language": "python",
   "name": "python3"
  },
  "language_info": {
   "codemirror_mode": {
    "name": "ipython",
    "version": 3
   },
   "file_extension": ".py",
   "mimetype": "text/x-python",
   "name": "python",
   "nbconvert_exporter": "python",
   "pygments_lexer": "ipython3",
   "version": "3.13.2"
  }
 },
 "nbformat": 4,
 "nbformat_minor": 2
}
