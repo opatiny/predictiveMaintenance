{
 "cells": [
  {
   "cell_type": "markdown",
   "metadata": {},
   "source": [
    "# Plot spindle current versus temperature\n",
    "\n",
    "We want to visualize the relationship between the current and the temperature of the spindle. In order to do that, we want to take averages by given time slots. "
   ]
  },
  {
   "cell_type": "code",
   "execution_count": 1,
   "metadata": {},
   "outputs": [
    {
     "name": "stdout",
     "output_type": "stream",
     "text": [
      "/Users/opatiny/git/opatiny/predictiveMaintenance/src/notebooks\n"
     ]
    }
   ],
   "source": [
    "import os\n",
    "import sys\n",
    "import matplotlib.pyplot as plt\n",
    "import numpy as np\n",
    "import pandas as pd\n",
    "from pathlib import Path\n",
    "\n",
    "module_path = os.path.abspath(os.path.join('..'))\n",
    "if module_path not in sys.path:\n",
    "    sys.path.append(module_path)\n",
    "\n",
    "current_folder = os.getcwd()\n",
    "print(current_folder)\n",
    "\n",
    "from parse.loadCsvSignal import loadCsvSignal\n",
    "\n",
    "from plot.plotSegments import plotSegments\n",
    "\n",
    "from signalProcessing.computeSlotsAverage import computeSlotsAverage\n",
    "from signalProcessing.splitSignal import splitSignal\n",
    "from signalProcessing.removeSegmentsBeginning import removeSegmentsBeginning\n",
    "\n",
    "from temperatureCorrection.getTemperatureCorrectionData import getTemperatureCorrectionData\n",
    "from temperatureCorrection.findTemperatureOffset import findTemperatureOffset\n",
    "from temperatureCorrection.showTempCorrectionPlots import showTempCorrectionPlots\n",
    "from temperatureCorrection.correctSpindleCurrent import correctSpindleCurrent\n",
    "\n",
    "from utils.detectConstantSegments import detectConstantSegments\n",
    "from utils.getOperationsStart import getOperationsStart\n",
    "from utils.customPolyFit import getPolyRegression, evalPolyReg\n",
    "from utils.polyFit import getPolyFits, getRelativeErrors, evalModels"
   ]
  },
  {
   "cell_type": "markdown",
   "metadata": {},
   "source": [
    "## Load some data\n",
    "\n",
    "   "
   ]
  },
  {
   "cell_type": "code",
   "execution_count": null,
   "metadata": {},
   "outputs": [],
   "source": [
    "folderPath = \"../../data/Mecatis/05_02_25/\"\n",
    "\n",
    "temperature = \"lrSigSpindleTemp.csv\"\n",
    "currentSlots = \"stSigAxCurrentS.csv\"\n",
    "\n",
    "tempPath = current_folder + \"/\" + folderPath + temperature\n",
    "currentPath = current_folder + \"/\" + folderPath + currentSlots\n",
    "\n",
    "\n",
    "temperatureData = loadCsvSignal(tempPath, normalize=True, debug=True)\n",
    "currentData = loadCsvSignal(currentPath, normalize=True, debug=True)\n"
   ]
  },
  {
   "cell_type": "markdown",
   "metadata": {},
   "source": [
    "### Plot the data"
   ]
  },
  {
   "cell_type": "code",
   "execution_count": null,
   "metadata": {},
   "outputs": [],
   "source": [
    "plt.plot(\n",
    "    temperatureData.loc[:, \"timeSeconds\"], temperatureData.loc[:, \"value\"], \"o-\", markersize=3)\n",
    "plt.plot(\n",
    "    currentData.loc[:, \"timeSeconds\"], currentData.loc[:, \"value\"], \"o-\", markersize=3)\n",
    "plt.xlabel(\"Time (s)\")\n",
    "# plt.ylabel(\"Temperature (°C) / Current (A)\")\n",
    "plt.ylabel(\"Normalized signals\")\n",
    "plt.legend([\"Temperature\", \"Current\"])\n",
    "\n",
    "plt.title(\"Spindle temperature and current\")\n",
    "plt.grid()\n",
    "\n",
    "plt.show()"
   ]
  },
  {
   "cell_type": "markdown",
   "metadata": {},
   "source": [
    "### Plot the data averaged by slots"
   ]
  },
  {
   "cell_type": "code",
   "execution_count": null,
   "metadata": {},
   "outputs": [],
   "source": [
    "# apply the function to the temperature and current data\n",
    "dt = 10 # seconds\n",
    "\n",
    "temperatureSlots = computeSlotsAverage(temperatureData, dt)\n",
    "currentSlots = computeSlotsAverage(currentData, dt)\n",
    "\n",
    "# plot data versus time\n",
    "plt.plot(\n",
    "    temperatureSlots.loc[:, \"timeSeconds\"], temperatureSlots.loc[:, \"value\"], \"o-\", markersize=3)\n",
    "\n",
    "plt.plot(\n",
    "    currentSlots.loc[:, \"timeSeconds\"], currentSlots.loc[:, \"value\"], \"o-\", markersize=3)\n",
    "plt.xlabel(\"Time (s)\")\n",
    "plt.ylabel(\"Normalized signals\")\n",
    "plt.legend([\"Temperature\", \"Current\"])\n",
    "plt.title(\"Spindle temperature and current with slots average of \" + str(dt) + \" seconds\")\n",
    "plt.grid()\n",
    "plt.show()"
   ]
  },
  {
   "cell_type": "markdown",
   "metadata": {},
   "source": [
    "### Plot the current versus temperature"
   ]
  },
  {
   "cell_type": "code",
   "execution_count": null,
   "metadata": {},
   "outputs": [],
   "source": [
    "plt.plot(\n",
    "    temperatureSlots.loc[:, \"value\"], currentSlots.loc[:, \"value\"], \"-o\", markersize=3)\n",
    "plt.xlabel(\"Temperature (°C)\")\n",
    "plt.ylabel(\"Current (A)\")\n",
    "plt.title(\"Spindle temperature VS current\")\n",
    "plt.grid()\n",
    "plt.show()"
   ]
  },
  {
   "cell_type": "markdown",
   "metadata": {},
   "source": [
    "## Test `getTemperatureCorrectionData` on various samples\n",
    "\n",
    "We want to plot the current VS temperature plot for multiple samples."
   ]
  },
  {
   "cell_type": "code",
   "execution_count": null,
   "metadata": {},
   "outputs": [],
   "source": [
    "dataPath: Path = \"../../data/normalized-2025_04_08/\"\n",
    "\n",
    "samples: list[Path] = [\"Mecatis_05_02_25.parquet\", \"Mecatis_17_02_25.parquet\", \"Mecatis_10_03_25.parquet\"] \n",
    "\n",
    "rawData = []\n",
    "for sample in samples:\n",
    "    path = os.path.join(dataPath, sample)\n",
    "    currentData = pd.read_parquet(path)\n",
    "    rawData.append(getTemperatureCorrectionData(currentData))\n",
    "\n",
    "showTempCorrectionPlots(rawData, samples)"
   ]
  },
  {
   "cell_type": "markdown",
   "metadata": {},
   "source": [
    "## Finding optimal temperature offset \n",
    "\n",
    "We want to minimize the distance between a temperature signal and a reference using just an offset."
   ]
  },
  {
   "cell_type": "code",
   "execution_count": null,
   "metadata": {},
   "outputs": [],
   "source": [
    "offset1, error1 = findTemperatureOffset(rawData[1][\"temperature\"], rawData[0][\"temperature\"])\n",
    "\n",
    "print(\"sample 1: \", samples[1])\n",
    "print(\"Offset: \", offset1.round(2), \"°C\")\n",
    "print(\"RMSE: \", error1.round(2), \"°C\")\n",
    "\n",
    "offset2, error2 = findTemperatureOffset(rawData[2][\"temperature\"], rawData[0][\"temperature\"])\n",
    "print(\"sample 2: \", samples[2])\n",
    "print(\"Offset: \", offset2.round(2), \"°C\")\n",
    "print(\"RMSE: \", error2.round(2), \"°C\")\n"
   ]
  },
  {
   "cell_type": "markdown",
   "metadata": {},
   "source": [
    "### Plot the corrected data"
   ]
  },
  {
   "cell_type": "code",
   "execution_count": null,
   "metadata": {},
   "outputs": [],
   "source": [
    "rawData[1][\"temperature\"] = rawData[1][\"temperature\"] - offset1\n",
    "samples[1] = samples[1] + \" (offset: \" + str(offset1.round(2)) + \"°C)\"\n",
    "\n",
    "rawData[2][\"temperature\"] = rawData[2][\"temperature\"] - offset2\n",
    "samples[2] = samples[2] + \" (offset: \" + str(offset2.round(2)) + \"°C)\"\n",
    "\n",
    "showTempCorrectionPlots(rawData, samples)"
   ]
  },
  {
   "cell_type": "markdown",
   "metadata": {},
   "source": [
    "## Check if segments are the same in all samples"
   ]
  },
  {
   "cell_type": "code",
   "execution_count": null,
   "metadata": {},
   "outputs": [],
   "source": [
    "\n",
    "dataPath: Path = \"../../data/normalized-2025_04_08/\"\n",
    "\n",
    "def getSampleSegmentIndices(samplePath: Path) -> list:\n",
    "    \"\"\"\n",
    "    Get the sample segment indices.\n",
    "\n",
    "    Parameters\n",
    "    ----------\n",
    "    samplePath (str): The path to the sample.\n",
    "\n",
    "    Returns\n",
    "    -------\n",
    "    list: Indices of the sample segments.\n",
    "    \"\"\"\n",
    "    data = pd.read_parquet(samplePath)\n",
    "    time = data[\"timeSeconds\"]\n",
    "    command = data[\"stSigSpindleVelocity\"]\n",
    "    return detectConstantSegments(time, command)\n",
    "\n",
    "indices1 = getSampleSegmentIndices(os.path.join(dataPath, \"Mecatis_05_02_25.parquet\"))\n",
    "print(\"Indices 1: \", indices1)\n",
    "indices2 = getSampleSegmentIndices(os.path.join(dataPath, \"Mecatis_17_02_25.parquet\"))\n",
    "print(\"Indices 2: \", indices2)\n",
    "indices3 = getSampleSegmentIndices(os.path.join(dataPath, \"Mecatis_10_03_25.parquet\"))\n",
    "print(\"Indices 3: \", indices3)\n"
   ]
  },
  {
   "cell_type": "markdown",
   "metadata": {},
   "source": [
    "Remarks:\n",
    "- different samples have different segment indices\n",
    "- samples contains different number of points\n",
    "- why is finding the segments indices so slow??"
   ]
  },
  {
   "cell_type": "markdown",
   "metadata": {},
   "source": [
    "## Split spindle current into segments\n",
    "We want to split all the spindle current into segments and process each of the segments independently. First we need to find the start and end indices of the segments.\n",
    "\n",
    "First, load a sample and put useful signals into some variables."
   ]
  },
  {
   "cell_type": "code",
   "execution_count": null,
   "metadata": {},
   "outputs": [],
   "source": [
    "dataPath: Path = \"../../data/normalized-2025_04_08/\"\n",
    "samplePath = os.path.join(dataPath, \"Mecatis_05_02_25.parquet\")\n",
    "\n",
    "rawData = pd.read_parquet(samplePath)\n",
    "time = rawData[\"timeSeconds\"]\n",
    "command = rawData[\"stSigSpindleVelocity\"]\n",
    "\n",
    "plt.figure()\n",
    "plt.plot(time, command, \"o-\", markersize=3)\n",
    "plt.xlabel(\"Time (s)\")\n",
    "plt.ylabel(\"Command\")\n",
    "plt.grid()\n",
    "plt.show()\n",
    "\n",
    "\n",
    "operationsIndices = getOperationsStart(rawData[\"stSigOperation\"])\n",
    "\n",
    "print(\"Operation indices: \", operationsIndices)\n",
    "\n",
    "segmentIndices = detectConstantSegments(time, command)\n",
    "print(\"Segment indices: \", segmentIndices)\n",
    "\n",
    "data = getTemperatureCorrectionData(rawData, timeSlot=None)\n"
   ]
  },
  {
   "cell_type": "code",
   "execution_count": null,
   "metadata": {},
   "outputs": [],
   "source": [
    "# plot the data\n",
    "plt.figure()\n",
    "plt.plot(time, command, \"o-\", markersize=3)\n",
    "plt.xlabel(\"Time (s)\")\n",
    "plt.ylabel(\"Target velocity (rpm)\")\n",
    "plt.title(\"Spindle velocity\")\n",
    "plt.grid()\n",
    "for segment in segmentIndices:\n",
    "    plt.axvspan(time[segment[0]], time[segment[1]], color=\"red\", alpha=0.2)\n",
    "plt.show()"
   ]
  },
  {
   "cell_type": "markdown",
   "metadata": {},
   "source": [
    "## Cut a signal into the segments and plot all the segments versus time"
   ]
  },
  {
   "cell_type": "markdown",
   "metadata": {},
   "source": [
    "### Plot original spindle current"
   ]
  },
  {
   "cell_type": "code",
   "execution_count": null,
   "metadata": {},
   "outputs": [],
   "source": [
    "plt.figure()\n",
    "plt.plot(time, data[\"current\"], \"o-\", markersize=3)\n",
    "plt.xlabel(\"Time (s)\")\n",
    "plt.ylabel(\"Current (A)\")\n",
    "plt.title(\"Spindle current\")\n",
    "plt.grid()\n",
    "plt.show()"
   ]
  },
  {
   "cell_type": "markdown",
   "metadata": {},
   "source": [
    "### Test plotting raw segments"
   ]
  },
  {
   "cell_type": "code",
   "execution_count": null,
   "metadata": {},
   "outputs": [],
   "source": [
    "segments = splitSignal(data, segmentIndices)\n",
    "plotSegments(segments)\n",
    "\n",
    "# zoom in\n",
    "plotSegments(segments, nbPoints=1000, title=\"Spindle current, zoom on beginning\")"
   ]
  },
  {
   "cell_type": "markdown",
   "metadata": {},
   "source": [
    "### Remove points at the beggining of segments\n",
    "\n",
    "We want to remove the beginning of each segment in order to be in the stable state."
   ]
  },
  {
   "cell_type": "code",
   "execution_count": null,
   "metadata": {},
   "outputs": [],
   "source": [
    "cutSegments = removeSegmentsBeginning(segments, timeToRemove=0.5, debug=True)\n",
    "# plot the segments\n",
    "plotSegments(cutSegments)"
   ]
  },
  {
   "cell_type": "markdown",
   "metadata": {},
   "source": [
    "### Compute average by slots to reduce nb of points"
   ]
  },
  {
   "cell_type": "code",
   "execution_count": null,
   "metadata": {},
   "outputs": [],
   "source": [
    "dt = 10 # seconds\n",
    "\n",
    "averagedSegments = []\n",
    "\n",
    "for i in range(len(cutSegments)):\n",
    "    averagedSegments.append(computeSlotsAverage(cutSegments[i], dt))\n",
    "\n",
    "\n",
    "# plot the segments\n",
    "plotSegments(averagedSegments, title=\"Segments averaged by \" + str(dt) + \" seconds slots\")"
   ]
  },
  {
   "cell_type": "markdown",
   "metadata": {},
   "source": [
    "### Plot current versus temperature for each segment"
   ]
  },
  {
   "cell_type": "code",
   "execution_count": null,
   "metadata": {},
   "outputs": [],
   "source": [
    "plotSegments(averagedSegments, xSignal= \"temperature\", ySignals=[\"current\"], ylabel=\"Current (A)\", xlabel=\"Temperature (°C)\", title=\"Segments averaged slots\")"
   ]
  },
  {
   "cell_type": "markdown",
   "metadata": {},
   "source": [
    "## Compute regressions for each segment    "
   ]
  },
  {
   "cell_type": "markdown",
   "metadata": {},
   "source": [
    "### Write functions\n",
    "\n",
    "\n",
    "There is a bug somewhere and I struggled to find it.... In the end I just used the standard numpy functions..."
   ]
  },
  {
   "cell_type": "markdown",
   "metadata": {},
   "source": [
    " ### Test the functions"
   ]
  },
  {
   "cell_type": "code",
   "execution_count": null,
   "metadata": {},
   "outputs": [],
   "source": [
    "testData = pd.DataFrame()\n",
    "testData[\"temperature\"] = [1,2,5,6,9,10]\n",
    "testData[\"current\"] = [0.1,0.4,0.9,1.6,2.5,3.6]\n",
    "\n",
    "realData = pd.DataFrame()\n",
    "realData[\"temperature\"] = [22.900000,  \n",
    "                           22.941293,  \n",
    "                           23.081673,  \n",
    "                           23.224596,  \n",
    "                           23.348171,  \n",
    "                           23.466880,  \n",
    "                           23.608718,  \n",
    "                           23.700000]\n",
    "  \n",
    "realData[\"current\"] = [0.746520,\n",
    "                       0.733001,\n",
    "                       0.729164,\n",
    "                       0.724461,\n",
    "                       0.718472,\n",
    "                       0.712600,\n",
    "                       0.709162,\n",
    "                       0.705753]\n",
    "\n",
    "\n",
    "# sort data by temperature\n",
    "realData = realData.sort_values(by=\"temperature\")\n",
    "\n",
    "\n",
    "data = realData\n",
    "\n",
    "reg1, err1 = getPolyRegression(data, order=1)\n",
    "print(\"Parameters: \", reg1)\n",
    "print(\"RMSE: \", err1)\n",
    "\n",
    "model1 = evalPolyReg(reg1, data)\n",
    "\n",
    "reg2, err2 = getPolyRegression(data, order=2)\n",
    "print(\"Parameters: \", reg2)\n",
    "print(\"RMSE: \", err2)\n",
    "\n",
    "model2 = evalPolyReg(reg2, data)\n",
    "\n",
    "plt.figure()\n",
    "plt.plot(data[\"temperature\"], data[\"current\"], \"o-\", markersize=3)\n",
    "plt.plot(data[\"temperature\"], model1, \"o-\", markersize=3)\n",
    "plt.plot(data[\"temperature\"], model2, \"o-\", markersize=3)\n",
    "plt.xlabel(\"Temperature (°C)\")\n",
    "plt.ylabel(\"Current (A)\")\n",
    "plt.legend([\"Data\", \"Regression order 1\", \"Regression order 2\"])\n",
    "plt.grid()\n",
    "plt.show()"
   ]
  },
  {
   "cell_type": "markdown",
   "metadata": {},
   "source": [
    "### Compute regressions on real data"
   ]
  },
  {
   "cell_type": "code",
   "execution_count": null,
   "metadata": {},
   "outputs": [],
   "source": [
    "\n",
    "\n",
    "models = getPolyFits(averagedSegments, order=3)\n",
    "segments = evalModels(averagedSegments, models)\n",
    "errors = getRelativeErrors(segments)\n",
    "print(\"Errors: \", errors)\n",
    "\n",
    "   \n",
    "plotSegments(segments, xSignal= \"temperature\", ySignals=[\"current\", \"polyFit\"],\n",
    "             ylabel=\"Current (A)\", xlabel=\"Temperature (°C)\",\n",
    "             title=\"Spindle current versus temperature with polynomial fit\",\n",
    "             legend=[\"Measurements\", \"Polynomial fit\"])\n"
   ]
  },
  {
   "cell_type": "markdown",
   "metadata": {},
   "source": [
    "### Final temperature correction function\n",
    "\n",
    "We consider the variation of the current depending on the temperature as a bias. In order to remove it, we subtract the regression data from the current data."
   ]
  },
  {
   "cell_type": "markdown",
   "metadata": {},
   "source": [
    "## Test the whole temperature correction"
   ]
  },
  {
   "cell_type": "code",
   "execution_count": 6,
   "metadata": {},
   "outputs": [],
   "source": [
    "dataPath: Path = \"../../data/normalized-2025_04_08/\"\n",
    "\n",
    "samplePath = os.path.join(dataPath, \"Mecatis_17_02_25.parquet\")\n",
    "\n",
    "data = pd.read_parquet(samplePath)"
   ]
  },
  {
   "cell_type": "code",
   "execution_count": 5,
   "metadata": {},
   "outputs": [
    {
     "name": "stdout",
     "output_type": "stream",
     "text": [
      "Time to find constant segments:  6.954669713973999\n",
      "Frequency:  0.007024855625167191 Hz\n",
      "Number of points to remove:  0\n",
      "Relative error in percents for each segment: \n",
      "0    30.0\n",
      "1     2.0\n",
      "2     6.0\n",
      "3     8.0\n",
      "4    11.0\n",
      "5     3.0\n",
      "dtype: float64\n",
      "Correction indices:  [[0, 84072], [84073, 165512], [165513, 694795], [694796, 772677], [772678, 889265], [889266, 2065435]]\n",
      "Initial current:  0.6470109288005155\n",
      "Initial current:  0.735992195783183\n",
      "Initial current:  0.7969665300261042\n",
      "Initial current:  0.9279755690533875\n",
      "Initial current:  1.1169389569133727\n",
      "Initial current:  1.2822001180913074\n",
      "Corrected current dimensions:  (2065436,)\n"
     ]
    },
    {
     "name": "stderr",
     "output_type": "stream",
     "text": [
      "/Users/opatiny/git/opatiny/predictiveMaintenance/src/utils/polyFit.py:17: RankWarning: Polyfit may be poorly conditioned\n",
      "  model = np.poly1d(np.polyfit(segment[\"temperature\"], segment[\"current\"], order))\n"
     ]
    },
    {
     "data": {
      "image/png": "[encoded data removed]",
      "text/plain": [
       "<Figure size 640x480 with 1 Axes>"
      ]
     },
     "metadata": {},
     "output_type": "display_data"
    }
   ],
   "source": [
    "\n",
    "correctedCurrent = correctSpindleCurrent(data, debug=True)\n",
    "\n",
    "# plot the original and corrected current\n",
    "plt.figure()\n",
    "plt.plot(data[\"timeSeconds\"], data[\"stSigAxCurrentS\"], \"o-\", markersize=3)\n",
    "plt.plot(data[\"timeSeconds\"], correctedCurrent, \"o-\", markersize=3)\n",
    "plt.xlabel(\"Time (s)\")\n",
    "plt.ylabel(\"Current (A)\")\n",
    "plt.legend([\"Original current\", \"Corrected current\"])\n",
    "plt.title(\"Spindle current\")\n",
    "plt.grid()\n",
    "\n",
    "# plt.xlim([554, 560])\n",
    "# plt.ylim([0,4])\n",
    "plt.show()"
   ]
  }
 ],
 "metadata": {
  "kernelspec": {
   "display_name": ".venv",
   "language": "python",
   "name": "python3"
  },
  "language_info": {
   "codemirror_mode": {
    "name": "ipython",
    "version": 3
   },
   "file_extension": ".py",
   "mimetype": "text/x-python",
   "name": "python",
   "nbconvert_exporter": "python",
   "pygments_lexer": "ipython3",
   "version": "3.13.2"
  }
 },
 "nbformat": 4,
 "nbformat_minor": 2
}
